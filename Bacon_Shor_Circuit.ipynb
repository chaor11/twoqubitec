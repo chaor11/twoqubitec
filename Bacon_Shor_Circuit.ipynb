{
  "nbformat": 4,
  "nbformat_minor": 0,
  "metadata": {
    "colab": {
      "name": "Bacon Shor Circuit.ipynb",
      "provenance": [],
      "include_colab_link": true
    },
    "kernelspec": {
      "name": "python3",
      "display_name": "Python 3"
    },
    "language_info": {
      "name": "python"
    }
  },
  "cells": [
    {
      "cell_type": "markdown",
      "metadata": {
        "id": "view-in-github",
        "colab_type": "text"
      },
      "source": [
        "<a href=\"https://colab.research.google.com/github/chaor11/twoqubitec/blob/master/Bacon_Shor_Circuit.ipynb\" target=\"_parent\"><img src=\"https://colab.research.google.com/assets/colab-badge.svg\" alt=\"Open In Colab\"/></a>"
      ]
    },
    {
      "cell_type": "code",
      "metadata": {
        "colab": {
          "base_uri": "https://localhost:8080/"
        },
        "id": "GcShI1irZj-p",
        "outputId": "92c70980-7511-49f2-9635-660143df24dc"
      },
      "source": [
        "!pip install cirq~=0.9.0"
      ],
      "execution_count": null,
      "outputs": [
        {
          "output_type": "stream",
          "text": [
            "Collecting cirq~=0.9.0\n",
            "\u001b[?25l  Downloading https://files.pythonhosted.org/packages/18/05/39c24828744b91f658fd1e5d105a9d168da43698cfaec006179c7646c71c/cirq-0.9.1-py3-none-any.whl (1.6MB)\n",
            "\u001b[K     |████████████████████████████████| 1.6MB 3.9MB/s \n",
            "\u001b[?25hRequirement already satisfied: requests~=2.18 in /usr/local/lib/python3.7/dist-packages (from cirq~=0.9.0) (2.23.0)\n",
            "Collecting freezegun~=0.3.15\n",
            "  Downloading https://files.pythonhosted.org/packages/17/5d/1b9d6d3c7995fff473f35861d674e0113a5f0bd5a72fe0199c3f254665c7/freezegun-0.3.15-py2.py3-none-any.whl\n",
            "Requirement already satisfied: sortedcontainers~=2.0 in /usr/local/lib/python3.7/dist-packages (from cirq~=0.9.0) (2.4.0)\n",
            "Requirement already satisfied: sympy in /usr/local/lib/python3.7/dist-packages (from cirq~=0.9.0) (1.7.1)\n",
            "Requirement already satisfied: typing-extensions in /usr/local/lib/python3.7/dist-packages (from cirq~=0.9.0) (3.7.4.3)\n",
            "Requirement already satisfied: numpy~=1.16 in /usr/local/lib/python3.7/dist-packages (from cirq~=0.9.0) (1.19.5)\n",
            "Requirement already satisfied: matplotlib~=3.0 in /usr/local/lib/python3.7/dist-packages (from cirq~=0.9.0) (3.2.2)\n",
            "Requirement already satisfied: pandas in /usr/local/lib/python3.7/dist-packages (from cirq~=0.9.0) (1.1.5)\n",
            "Requirement already satisfied: scipy in /usr/local/lib/python3.7/dist-packages (from cirq~=0.9.0) (1.4.1)\n",
            "Requirement already satisfied: protobuf~=3.12.0 in /usr/local/lib/python3.7/dist-packages (from cirq~=0.9.0) (3.12.4)\n",
            "Requirement already satisfied: networkx~=2.4 in /usr/local/lib/python3.7/dist-packages (from cirq~=0.9.0) (2.5.1)\n",
            "Requirement already satisfied: google-api-core[grpc]<2.0.0dev,>=1.14.0 in /usr/local/lib/python3.7/dist-packages (from cirq~=0.9.0) (1.26.3)\n",
            "Requirement already satisfied: idna<3,>=2.5 in /usr/local/lib/python3.7/dist-packages (from requests~=2.18->cirq~=0.9.0) (2.10)\n",
            "Requirement already satisfied: chardet<4,>=3.0.2 in /usr/local/lib/python3.7/dist-packages (from requests~=2.18->cirq~=0.9.0) (3.0.4)\n",
            "Requirement already satisfied: certifi>=2017.4.17 in /usr/local/lib/python3.7/dist-packages (from requests~=2.18->cirq~=0.9.0) (2021.5.30)\n",
            "Requirement already satisfied: urllib3!=1.25.0,!=1.25.1,<1.26,>=1.21.1 in /usr/local/lib/python3.7/dist-packages (from requests~=2.18->cirq~=0.9.0) (1.24.3)\n",
            "Requirement already satisfied: six in /usr/local/lib/python3.7/dist-packages (from freezegun~=0.3.15->cirq~=0.9.0) (1.15.0)\n",
            "Requirement already satisfied: python-dateutil!=2.0,>=1.0 in /usr/local/lib/python3.7/dist-packages (from freezegun~=0.3.15->cirq~=0.9.0) (2.8.1)\n",
            "Requirement already satisfied: mpmath>=0.19 in /usr/local/lib/python3.7/dist-packages (from sympy->cirq~=0.9.0) (1.2.1)\n",
            "Requirement already satisfied: pyparsing!=2.0.4,!=2.1.2,!=2.1.6,>=2.0.1 in /usr/local/lib/python3.7/dist-packages (from matplotlib~=3.0->cirq~=0.9.0) (2.4.7)\n",
            "Requirement already satisfied: cycler>=0.10 in /usr/local/lib/python3.7/dist-packages (from matplotlib~=3.0->cirq~=0.9.0) (0.10.0)\n",
            "Requirement already satisfied: kiwisolver>=1.0.1 in /usr/local/lib/python3.7/dist-packages (from matplotlib~=3.0->cirq~=0.9.0) (1.3.1)\n",
            "Requirement already satisfied: pytz>=2017.2 in /usr/local/lib/python3.7/dist-packages (from pandas->cirq~=0.9.0) (2018.9)\n",
            "Requirement already satisfied: setuptools in /usr/local/lib/python3.7/dist-packages (from protobuf~=3.12.0->cirq~=0.9.0) (57.0.0)\n",
            "Requirement already satisfied: decorator<5,>=4.3 in /usr/local/lib/python3.7/dist-packages (from networkx~=2.4->cirq~=0.9.0) (4.4.2)\n",
            "Requirement already satisfied: google-auth<2.0dev,>=1.21.1 in /usr/local/lib/python3.7/dist-packages (from google-api-core[grpc]<2.0.0dev,>=1.14.0->cirq~=0.9.0) (1.31.0)\n",
            "Requirement already satisfied: packaging>=14.3 in /usr/local/lib/python3.7/dist-packages (from google-api-core[grpc]<2.0.0dev,>=1.14.0->cirq~=0.9.0) (20.9)\n",
            "Requirement already satisfied: googleapis-common-protos<2.0dev,>=1.6.0 in /usr/local/lib/python3.7/dist-packages (from google-api-core[grpc]<2.0.0dev,>=1.14.0->cirq~=0.9.0) (1.53.0)\n",
            "Requirement already satisfied: grpcio<2.0dev,>=1.29.0; extra == \"grpc\" in /usr/local/lib/python3.7/dist-packages (from google-api-core[grpc]<2.0.0dev,>=1.14.0->cirq~=0.9.0) (1.34.1)\n",
            "Requirement already satisfied: pyasn1-modules>=0.2.1 in /usr/local/lib/python3.7/dist-packages (from google-auth<2.0dev,>=1.21.1->google-api-core[grpc]<2.0.0dev,>=1.14.0->cirq~=0.9.0) (0.2.8)\n",
            "Requirement already satisfied: cachetools<5.0,>=2.0.0 in /usr/local/lib/python3.7/dist-packages (from google-auth<2.0dev,>=1.21.1->google-api-core[grpc]<2.0.0dev,>=1.14.0->cirq~=0.9.0) (4.2.2)\n",
            "Requirement already satisfied: rsa<5,>=3.1.4; python_version >= \"3.6\" in /usr/local/lib/python3.7/dist-packages (from google-auth<2.0dev,>=1.21.1->google-api-core[grpc]<2.0.0dev,>=1.14.0->cirq~=0.9.0) (4.7.2)\n",
            "Requirement already satisfied: pyasn1<0.5.0,>=0.4.6 in /usr/local/lib/python3.7/dist-packages (from pyasn1-modules>=0.2.1->google-auth<2.0dev,>=1.21.1->google-api-core[grpc]<2.0.0dev,>=1.14.0->cirq~=0.9.0) (0.4.8)\n",
            "Installing collected packages: freezegun, cirq\n",
            "Successfully installed cirq-0.9.1 freezegun-0.3.15\n"
          ],
          "name": "stdout"
        }
      ]
    },
    {
      "cell_type": "code",
      "metadata": {
        "id": "Vh-ZreqDZrjK"
      },
      "source": [
        "import cirq\n",
        "import numpy as np\n",
        "#import cirq.ion as ci\n",
        "#from cirq import Simulator\n",
        "#import itertools\n",
        "#import random"
      ],
      "execution_count": null,
      "outputs": []
    },
    {
      "cell_type": "markdown",
      "metadata": {
        "id": "GjGpPsiLIsnY"
      },
      "source": [
        "## Bacon Shor Code\n",
        "$$\\newcommand{\\bra}[1]{\\middle|{#1}>\\rangle}$$\n",
        "logical $X_L = X_1X_4X_7$, logical $Z_L = Z_1Z_2Z_3$\n",
        "$$|+_L>= (|000>+|111>)^{\\otimes 3},\n",
        "|0_L> = (|+++>+|--->)^{\\otimes 3}$$\n"
      ]
    },
    {
      "cell_type": "code",
      "metadata": {
        "colab": {
          "base_uri": "https://localhost:8080/"
        },
        "id": "65Dm1CYCZ1YC",
        "outputId": "cddc9da3-467b-47e0-81bd-58172ed37081"
      },
      "source": [
        "### 9-qubit Bacon Shor code, following the qubit layout and circuit from https://arxiv.org/pdf/2009.11482.pdf\n",
        "class BS3x3Code:\n",
        "    def __init__(self):\n",
        "        self.num_physical_qubits = 13 # 9 plus 4 ancilla, denoted from 0 to 13\n",
        "        self.physical_qubits = cirq.LineQubit.range(self.num_physical_qubits)\n",
        "\n",
        "    def encode(self):\n",
        "        # encode into logical-X basis\n",
        "        index = [0,3,6]\n",
        "        yield [cirq.ms(0.25*np.pi).on(self.physical_qubits[i],self.physical_qubits[i+1]) for i in index]\n",
        "        yield [cirq.rz(0.5*np.pi).on(self.physical_qubits[i+1]) for i in index]\n",
        "        yield [cirq.ms(-0.25*np.pi).on(self.physical_qubits[i+1],self.physical_qubits[i+2]) for i in index]\n",
        "        yield [cirq.rz(-0.5*np.pi).on(self.physical_qubits[i+2]) for i in index]\n",
        "\n",
        "    def logical_ry(self):\n",
        "        #convert from logical-X basis to logical Z-basis\n",
        "        #logical X = X_1X_4X_7, logical Z = Z_1Z_2Z_3\n",
        "        yield cirq.Moment([cirq.ry(0.5*np.pi).on(self.physical_qubits[i]) for i in range(9)])\n",
        "\n",
        "    def z_stab(self):\n",
        "        #yield [cirq.reset(self.physical_qubits[9]),cirq.reset(self.physical_qubits[10])]\n",
        "        yield cirq.Moment([cirq.ry(0.5*np.pi).on(self.physical_qubits[i]) for i in range(9)])\n",
        "        yield [\n",
        "                [cirq.Moment(cirq.ms(0.25*np.pi).on(self.physical_qubits[9],self.physical_qubits[i])),\n",
        "                 cirq.Moment(cirq.ms(-0.25*np.pi).on(self.physical_qubits[9],self.physical_qubits[i+3]))\n",
        "                ] \n",
        "          for i in range(3)] \n",
        "        yield [\n",
        "                [cirq.Moment(cirq.ms(0.25*np.pi).on(self.physical_qubits[10],self.physical_qubits[i+3])),\n",
        "                 cirq.Moment(cirq.ms(-0.25*np.pi).on(self.physical_qubits[10],self.physical_qubits[i+6]))\n",
        "                ] \n",
        "          for i in range(3)] \n",
        "        yield cirq.Moment(\n",
        "            [cirq.rx(-0.5*np.pi).on(self.physical_qubits[i]) for i in range(3)],\n",
        "            [cirq.rx(0.5*np.pi).on(self.physical_qubits[i]) for i in range(6,9)],\n",
        "            [cirq.measure(self.physical_qubits[9]),cirq.measure(self.physical_qubits[10])]\n",
        "            )\n",
        "        yield cirq.Moment([cirq.ry(-0.5*np.pi).on(self.physical_qubits[i]) for i in range(9)])\n",
        "\n",
        "    def x_stab(self):\n",
        "        #yield [cirq.reset(self.physical_qubits[11]),cirq.reset(self.physical_qubits[12])]\n",
        "        yield [\n",
        "               [cirq.Moment(cirq.ms(-0.25*np.pi).on(self.physical_qubits[11],self.physical_qubits[i])),\n",
        "                cirq.Moment(cirq.ms(0.25*np.pi).on(self.physical_qubits[11],self.physical_qubits[i+1]))]\n",
        "               for i in [0,3,6]\n",
        "        ]\n",
        "        yield [\n",
        "               [cirq.Moment(cirq.ms(-0.25*np.pi).on(self.physical_qubits[12],self.physical_qubits[i+1])),\n",
        "                cirq.Moment(cirq.ms(0.25*np.pi).on(self.physical_qubits[12],self.physical_qubits[i+2]))]\n",
        "               for i in [0,3,6]\n",
        "        ]\n",
        "        yield cirq.Moment(\n",
        "            [\n",
        "             [cirq.rx(-0.5*np.pi).on(self.physical_qubits[i]) for i in [0,3,6]],\n",
        "             [cirq.rx(0.5*np.pi).on(self.physical_qubits[i+2]) for i in [0,3,6]],\n",
        "             [cirq.measure(self.physical_qubits[11]),cirq.measure(self.physical_qubits[12])]\n",
        "            ]\n",
        "        )\n",
        "        pass\n",
        "\n",
        "circuit=cirq.Circuit()\n",
        "code=BS3x3Code()\n",
        "circuit.append(code.encode())\n",
        "circuit.append(code.logical_ry())\n",
        "circuit.append(code.z_stab())\n",
        "circuit.append(code.x_stab())\n",
        "#print(repr(circuit))\n",
        "print(circuit) #This is a commbination of Fig. S12, S15 and S16 in https://arxiv.org/pdf/2009.11482.pdf"
      ],
      "execution_count": null,
      "outputs": [
        {
          "output_type": "stream",
          "text": [
            "0: ────MS(0.25π)───────────────────────────────────────Ry(0.5π)───Ry(0.5π)───MS(0.25π)─────────────────────────────────────────────────────────────────────────────────────────────────────────────────────────────────────────────Rx(-0.5π)───Ry(-0.5π)───MS(-0.25π)────────────────────────────────────────────────────────────────────────────────────────────────────────────────────────────────────────────Rx(-0.5π)───\n",
            "       │                                                                     │                                                                                                                                                                             │\n",
            "1: ────MS(0.25π)───Rz(0.5π)───MS(-0.25π)───────────────Ry(0.5π)───Ry(0.5π)───┼────────────────────────MS(0.25π)────────────────────────────────────────────────────────────────────────────────────────────────────────────────────Rx(-0.5π)───Ry(-0.5π)───┼────────────MS(0.25π)─────────────────────────────────────────────────────MS(-0.25π)─────────────────────────────────────────────────────────────────────────────\n",
            "                              │                                              │                        │                                                                                                                                                    │            │                                                             │\n",
            "2: ───────────────────────────MS(-0.25π)───Rz(-0.5π)───Ry(0.5π)───Ry(0.5π)───┼────────────────────────┼────────────────────────MS(0.25π)───────────────────────────────────────────────────────────────────────────────────────────Rx(-0.5π)───Ry(-0.5π)───┼────────────┼─────────────────────────────────────────────────────────────┼────────────MS(0.25π)─────────────────────────────────────────────────────Rx(0.5π)────\n",
            "                                                                             │                        │                        │                                                                                                                           │            │                                                             │            │\n",
            "3: ────MS(0.25π)───────────────────────────────────────Ry(0.5π)───Ry(0.5π)───┼───────────MS(-0.25π)───┼────────────────────────┼────────────────────────MS(0.25π)──────────────────────────────────────────────────────────────────────────────Ry(-0.5π)───┼────────────┼───────────MS(-0.25π)────────────────────────────────────────┼────────────┼─────────────────────────────────────────────────────────────Rx(-0.5π)───\n",
            "       │                                                                     │           │            │                        │                        │                                                                                                  │            │           │                                                 │            │\n",
            "4: ────MS(0.25π)───Rz(0.5π)───MS(-0.25π)───────────────Ry(0.5π)───Ry(0.5π)───┼───────────┼────────────┼───────────MS(-0.25π)───┼────────────────────────┼────────────────────────MS(0.25π)─────────────────────────────────────────────────────Ry(-0.5π)───┼────────────┼───────────┼────────────MS(0.25π)────────────────────────────┼────────────┼───────────MS(-0.25π)────────────────────────────────────────────────────\n",
            "                              │                                              │           │            │           │            │                        │                        │                                                                         │            │           │            │                                    │            │           │\n",
            "5: ───────────────────────────MS(-0.25π)───Rz(-0.5π)───Ry(0.5π)───Ry(0.5π)───┼───────────┼────────────┼───────────┼────────────┼───────────MS(-0.25π)───┼────────────────────────┼────────────────────────MS(0.25π)────────────────────────────Ry(-0.5π)───┼────────────┼───────────┼────────────┼────────────────────────────────────┼────────────┼───────────┼────────────MS(0.25π)────────────────────────────Rx(0.5π)────\n",
            "                                                                             │           │            │           │            │           │            │                        │                        │                                                │            │           │            │                                    │            │           │            │\n",
            "6: ────MS(0.25π)───────────────────────────────────────Ry(0.5π)───Ry(0.5π)───┼───────────┼────────────┼───────────┼────────────┼───────────┼────────────┼───────────MS(-0.25π)───┼────────────────────────┼────────────────────────Rx(0.5π)────Ry(-0.5π)───┼────────────┼───────────┼────────────┼───────────MS(-0.25π)───────────────┼────────────┼───────────┼────────────┼────────────────────────────────────Rx(-0.5π)───\n",
            "       │                                                                     │           │            │           │            │           │            │           │            │                        │                                                │            │           │            │           │                        │            │           │            │\n",
            "7: ────MS(0.25π)───Rz(0.5π)───MS(-0.25π)───────────────Ry(0.5π)───Ry(0.5π)───┼───────────┼────────────┼───────────┼────────────┼───────────┼────────────┼───────────┼────────────┼───────────MS(-0.25π)───┼────────────────────────Rx(0.5π)────Ry(-0.5π)───┼────────────┼───────────┼────────────┼───────────┼────────────MS(0.25π)───┼────────────┼───────────┼────────────┼───────────MS(-0.25π)───────────────────────────\n",
            "                              │                                              │           │            │           │            │           │            │           │            │           │            │                                                │            │           │            │           │            │           │            │           │            │           │\n",
            "8: ───────────────────────────MS(-0.25π)───Rz(-0.5π)───Ry(0.5π)───Ry(0.5π)───┼───────────┼────────────┼───────────┼────────────┼───────────┼────────────┼───────────┼────────────┼───────────┼────────────┼───────────MS(-0.25π)───Rx(0.5π)────Ry(-0.5π)───┼────────────┼───────────┼────────────┼───────────┼────────────┼───────────┼────────────┼───────────┼────────────┼───────────┼────────────MS(0.25π)───Rx(0.5π)────\n",
            "                                                                             │           │            │           │            │           │            │           │            │           │            │           │                                    │            │           │            │           │            │           │            │           │            │           │            │\n",
            "9: ──────────────────────────────────────────────────────────────────────────MS(0.25π)───MS(-0.25π)───MS(0.25π)───MS(-0.25π)───MS(0.25π)───MS(-0.25π)───┼───────────┼────────────┼───────────┼────────────┼───────────┼────────────M───────────────────────┼────────────┼───────────┼────────────┼───────────┼────────────┼───────────┼────────────┼───────────┼────────────┼───────────┼────────────┼───────────────────────\n",
            "                                                                                                                                                        │           │            │           │            │           │                                    │            │           │            │           │            │           │            │           │            │           │            │\n",
            "10: ────────────────────────────────────────────────────────────────────────────────────────────────────────────────────────────────────────────────────MS(0.25π)───MS(-0.25π)───MS(0.25π)───MS(-0.25π)───MS(0.25π)───MS(-0.25π)───M───────────────────────┼────────────┼───────────┼────────────┼───────────┼────────────┼───────────┼────────────┼───────────┼────────────┼───────────┼────────────┼───────────────────────\n",
            "                                                                                                                                                                                                                                                           │            │           │            │           │            │           │            │           │            │           │            │\n",
            "11: ───────────────────────────────────────────────────────────────────────────────────────────────────────────────────────────────────────────────────────────────────────────────────────────────────────────────────────────────────────────────────────MS(-0.25π)───MS(0.25π)───MS(-0.25π)───MS(0.25π)───MS(-0.25π)───MS(0.25π)───┼────────────┼───────────┼────────────┼───────────┼────────────┼───────────M───────────\n",
            "                                                                                                                                                                                                                                                                                                                                      │            │           │            │           │            │\n",
            "12: ──────────────────────────────────────────────────────────────────────────────────────────────────────────────────────────────────────────────────────────────────────────────────────────────────────────────────────────────────────────────────────────────────────────────────────────────────────────────────────────────────MS(-0.25π)───MS(0.25π)───MS(-0.25π)───MS(0.25π)───MS(-0.25π)───MS(0.25π)───M───────────\n"
          ],
          "name": "stdout"
        }
      ]
    },
    {
      "cell_type": "code",
      "metadata": {
        "colab": {
          "base_uri": "https://localhost:8080/"
        },
        "id": "rZf6hCRea8yX",
        "outputId": "1c2da0fe-8075-409a-aeb1-78707e3edc73"
      },
      "source": [
        "### Compared to BS3x3, remove qubit 6,7,8 and ancilla 10\n",
        "class BS3x2Code:\n",
        "    def __init__(self):\n",
        "        self.num_physical_qubits = 13 # keep same indexing, (only 9 are used)\n",
        "        self.physical_qubits = cirq.LineQubit.range(self.num_physical_qubits)\n",
        "\n",
        "    def encode(self):\n",
        "        # encode into logical-X basis\n",
        "        index = [0,3]\n",
        "        yield [cirq.ms(0.25*np.pi).on(self.physical_qubits[i],self.physical_qubits[i+1]) for i in index]\n",
        "        yield [cirq.rz(0.5*np.pi).on(self.physical_qubits[i+1]) for i in index]\n",
        "        yield [cirq.ms(-0.25*np.pi).on(self.physical_qubits[i+1],self.physical_qubits[i+2]) for i in index]\n",
        "        yield [cirq.rz(-0.5*np.pi).on(self.physical_qubits[i+2]) for i in index]\n",
        "\n",
        "    def logical_ry(self):\n",
        "        #convert from logical-X basis to logical Z-basis\n",
        "        #logical X = X_1X_4X_7, logical Z = Z_1Z_2Z_3\n",
        "        yield cirq.Moment([cirq.ry(0.5*np.pi).on(self.physical_qubits[i]) for i in range(6)])\n",
        "\n",
        "    def z_stab(self):\n",
        "        #yield cirq.reset(self.physical_qubits[9])\n",
        "        yield cirq.Moment([cirq.ry(0.5*np.pi).on(self.physical_qubits[i]) for i in range(6)])\n",
        "        yield [\n",
        "                [cirq.Moment(cirq.ms(0.25*np.pi).on(self.physical_qubits[9],self.physical_qubits[i])),\n",
        "                 cirq.Moment(cirq.ms(-0.25*np.pi).on(self.physical_qubits[9],self.physical_qubits[i+3]))\n",
        "                ] \n",
        "          for i in range(3)] \n",
        "        yield cirq.Moment(\n",
        "            [cirq.rx(-0.5*np.pi).on(self.physical_qubits[i]) for i in range(3)],\n",
        "            [cirq.rx(0.5*np.pi).on(self.physical_qubits[i]) for i in range(3,6)],\n",
        "            cirq.measure(self.physical_qubits[9])\n",
        "            )\n",
        "        yield cirq.Moment([cirq.ry(-0.5*np.pi).on(self.physical_qubits[i]) for i in range(6)])\n",
        "\n",
        "    def x_stab(self):\n",
        "        index =[0,3]\n",
        "        #yield [cirq.reset(self.physical_qubits[11]),cirq.reset(self.physical_qubits[12])]\n",
        "        yield [\n",
        "               [cirq.Moment(cirq.ms(-0.25*np.pi).on(self.physical_qubits[11],self.physical_qubits[i])),\n",
        "                cirq.Moment(cirq.ms(0.25*np.pi).on(self.physical_qubits[11],self.physical_qubits[i+1]))]\n",
        "               for i in index\n",
        "        ]\n",
        "        yield [\n",
        "               [cirq.Moment(cirq.ms(-0.25*np.pi).on(self.physical_qubits[12],self.physical_qubits[i+1])),\n",
        "                cirq.Moment(cirq.ms(0.25*np.pi).on(self.physical_qubits[12],self.physical_qubits[i+2]))]\n",
        "               for i in index\n",
        "        ]\n",
        "        yield cirq.Moment(\n",
        "            [\n",
        "             [cirq.rx(-0.5*np.pi).on(self.physical_qubits[i]) for i in index],\n",
        "             [cirq.rx(0.5*np.pi).on(self.physical_qubits[i+2]) for i in index],\n",
        "             [cirq.measure(self.physical_qubits[11]),cirq.measure(self.physical_qubits[12])]\n",
        "            ]\n",
        "        )\n",
        "        pass\n",
        "\n",
        "circuit=cirq.Circuit()\n",
        "code=BS3x2Code()\n",
        "circuit.append(code.encode())\n",
        "circuit.append(code.logical_ry())\n",
        "circuit.append(code.z_stab())\n",
        "circuit.append(code.x_stab())\n",
        "#print(repr(circuit))\n",
        "print(circuit) "
      ],
      "execution_count": null,
      "outputs": [
        {
          "output_type": "stream",
          "text": [
            "0: ────MS(0.25π)───────────────────────────────────────Ry(0.5π)───Ry(0.5π)───MS(0.25π)──────────────────────────────────────────────────────────────────Rx(-0.5π)───Ry(-0.5π)───MS(-0.25π)──────────────────────────────────────────────────────────────────────────────────────────Rx(-0.5π)───\n",
            "       │                                                                     │                                                                                                  │\n",
            "1: ────MS(0.25π)───Rz(0.5π)───MS(-0.25π)───────────────Ry(0.5π)───Ry(0.5π)───┼────────────────────────MS(0.25π)─────────────────────────────────────────Rx(-0.5π)───Ry(-0.5π)───┼────────────MS(0.25π)────────────────────────────MS(-0.25π)────────────────────────────────────────────────────\n",
            "                              │                                              │                        │                                                                         │            │                                    │\n",
            "2: ───────────────────────────MS(-0.25π)───Rz(-0.5π)───Ry(0.5π)───Ry(0.5π)───┼────────────────────────┼────────────────────────MS(0.25π)────────────────Rx(-0.5π)───Ry(-0.5π)───┼────────────┼────────────────────────────────────┼────────────MS(0.25π)────────────────────────────Rx(0.5π)────\n",
            "                                                                             │                        │                        │                                                │            │                                    │            │\n",
            "3: ────MS(0.25π)───────────────────────────────────────Ry(0.5π)───Ry(0.5π)───┼───────────MS(-0.25π)───┼────────────────────────┼────────────────────────Rx(0.5π)────Ry(-0.5π)───┼────────────┼───────────MS(-0.25π)───────────────┼────────────┼────────────────────────────────────Rx(-0.5π)───\n",
            "       │                                                                     │           │            │                        │                                                │            │           │                        │            │\n",
            "4: ────MS(0.25π)───Rz(0.5π)───MS(-0.25π)───────────────Ry(0.5π)───Ry(0.5π)───┼───────────┼────────────┼───────────MS(-0.25π)───┼────────────────────────Rx(0.5π)────Ry(-0.5π)───┼────────────┼───────────┼────────────MS(0.25π)───┼────────────┼───────────MS(-0.25π)───────────────────────────\n",
            "                              │                                              │           │            │           │            │                                                │            │           │            │           │            │           │\n",
            "5: ───────────────────────────MS(-0.25π)───Rz(-0.5π)───Ry(0.5π)───Ry(0.5π)───┼───────────┼────────────┼───────────┼────────────┼───────────MS(-0.25π)───Rx(0.5π)────Ry(-0.5π)───┼────────────┼───────────┼────────────┼───────────┼────────────┼───────────┼────────────MS(0.25π)───Rx(0.5π)────\n",
            "                                                                             │           │            │           │            │           │                                    │            │           │            │           │            │           │            │\n",
            "9: ──────────────────────────────────────────────────────────────────────────MS(0.25π)───MS(-0.25π)───MS(0.25π)───MS(-0.25π)───MS(0.25π)───MS(-0.25π)───M───────────────────────┼────────────┼───────────┼────────────┼───────────┼────────────┼───────────┼────────────┼───────────────────────\n",
            "                                                                                                                                                                                │            │           │            │           │            │           │            │\n",
            "11: ────────────────────────────────────────────────────────────────────────────────────────────────────────────────────────────────────────────────────────────────────────────MS(-0.25π)───MS(0.25π)───MS(-0.25π)───MS(0.25π)───┼────────────┼───────────┼────────────┼───────────M───────────\n",
            "                                                                                                                                                                                                                                  │            │           │            │\n",
            "12: ──────────────────────────────────────────────────────────────────────────────────────────────────────────────────────────────────────────────────────────────────────────────────────────────────────────────────────────────MS(-0.25π)───MS(0.25π)───MS(-0.25π)───MS(0.25π)───M───────────\n"
          ],
          "name": "stdout"
        }
      ]
    },
    {
      "cell_type": "code",
      "metadata": {
        "colab": {
          "base_uri": "https://localhost:8080/"
        },
        "id": "P7HU0BVOfXe8",
        "outputId": "0967f0fb-19ca-462d-b746-85ca3a07148c"
      },
      "source": [
        ""
      ],
      "execution_count": null,
      "outputs": [
        {
          "output_type": "stream",
          "text": [
            "Encoded state: 0.35|000000000⟩ + 0.35|000000111⟩ + 0.35|000111000⟩ + 0.35|000111111⟩ + 0.35|111000000⟩ + 0.35|111000111⟩ + 0.35|111111000⟩ + 0.35|111111111⟩\n",
            "After stabilizer measurement: 0.35|00000000000⟩ + 0.35|00000011101⟩ + 0.35|00011100011⟩ + 0.35|00011111110⟩ + 0.35|11100000010⟩ + 0.35|11100011111⟩ + 0.35|11111100001⟩ + 0.35|11111111100⟩\n",
            "0: ────MS(0.25π)───────────────────────────────────────Ry(0.5π)───Ry(0.5π)───MS(0.25π)─────────────────────────────────────────────────────────────────────────────────────────────────────────────────────────────────────────────Rx(-0.5π)───Ry(-0.5π)───\n",
            "       │                                                                     │\n",
            "1: ────MS(0.25π)───Rz(0.5π)───MS(-0.25π)───────────────Ry(0.5π)───Ry(0.5π)───┼────────────────────────MS(0.25π)────────────────────────────────────────────────────────────────────────────────────────────────────────────────────Rx(-0.5π)───Ry(-0.5π)───\n",
            "                              │                                              │                        │\n",
            "2: ───────────────────────────MS(-0.25π)───Rz(-0.5π)───Ry(0.5π)───Ry(0.5π)───┼────────────────────────┼────────────────────────MS(0.25π)───────────────────────────────────────────────────────────────────────────────────────────Rx(-0.5π)───Ry(-0.5π)───\n",
            "                                                                             │                        │                        │\n",
            "3: ────MS(0.25π)───────────────────────────────────────Ry(0.5π)───Ry(0.5π)───┼───────────MS(-0.25π)───┼────────────────────────┼────────────────────────MS(0.25π)──────────────────────────────────────────────────────────────────────────────Ry(-0.5π)───\n",
            "       │                                                                     │           │            │                        │                        │\n",
            "4: ────MS(0.25π)───Rz(0.5π)───MS(-0.25π)───────────────Ry(0.5π)───Ry(0.5π)───┼───────────┼────────────┼───────────MS(-0.25π)───┼────────────────────────┼────────────────────────MS(0.25π)─────────────────────────────────────────────────────Ry(-0.5π)───\n",
            "                              │                                              │           │            │           │            │                        │                        │\n",
            "5: ───────────────────────────MS(-0.25π)───Rz(-0.5π)───Ry(0.5π)───Ry(0.5π)───┼───────────┼────────────┼───────────┼────────────┼───────────MS(-0.25π)───┼────────────────────────┼────────────────────────MS(0.25π)────────────────────────────Ry(-0.5π)───\n",
            "                                                                             │           │            │           │            │           │            │                        │                        │\n",
            "6: ────MS(0.25π)───────────────────────────────────────Ry(0.5π)───Ry(0.5π)───┼───────────┼────────────┼───────────┼────────────┼───────────┼────────────┼───────────MS(-0.25π)───┼────────────────────────┼────────────────────────Rx(0.5π)────Ry(-0.5π)───\n",
            "       │                                                                     │           │            │           │            │           │            │           │            │                        │\n",
            "7: ────MS(0.25π)───Rz(0.5π)───MS(-0.25π)───────────────Ry(0.5π)───Ry(0.5π)───┼───────────┼────────────┼───────────┼────────────┼───────────┼────────────┼───────────┼────────────┼───────────MS(-0.25π)───┼────────────────────────Rx(0.5π)────Ry(-0.5π)───\n",
            "                              │                                              │           │            │           │            │           │            │           │            │           │            │\n",
            "8: ───────────────────────────MS(-0.25π)───Rz(-0.5π)───Ry(0.5π)───Ry(0.5π)───┼───────────┼────────────┼───────────┼────────────┼───────────┼────────────┼───────────┼────────────┼───────────┼────────────┼───────────MS(-0.25π)───Rx(0.5π)────Ry(-0.5π)───\n",
            "                                                                             │           │            │           │            │           │            │           │            │           │            │           │\n",
            "9: ──────────────────────────────────────────────────────────────────────────MS(0.25π)───MS(-0.25π)───MS(0.25π)───MS(-0.25π)───MS(0.25π)───MS(-0.25π)───┼───────────┼────────────┼───────────┼────────────┼───────────┼────────────M───────────────────────\n",
            "                                                                                                                                                        │           │            │           │            │           │\n",
            "10: ────────────────────────────────────────────────────────────────────────────────────────────────────────────────────────────────────────────────────MS(0.25π)───MS(-0.25π)───MS(0.25π)───MS(-0.25π)───MS(0.25π)───MS(-0.25π)───M───────────────────────\n"
          ],
          "name": "stdout"
        }
      ]
    },
    {
      "cell_type": "code",
      "metadata": {
        "colab": {
          "base_uri": "https://localhost:8080/"
        },
        "id": "xWbOuagZCzaG",
        "outputId": "2c55a940-d49e-47a7-eebf-2f3e0cadf7d7"
      },
      "source": [
        "# Test session\n",
        "def test_encoding():\n",
        "  circuit=cirq.Circuit()\n",
        "  code=BS3x3Code()\n",
        "  circuit.append(code.encode())  \n",
        "  print(\"logical state |1>:\",cirq.dirac_notation(circuit.final_state_vector(initial_state=0b001001001))) \n",
        "  print(\"logical state |0>:\",cirq.dirac_notation(circuit.final_state_vector(initial_state=0)))   \n",
        "  print(circuit)\n",
        "\n",
        "  circuit.append(code.logical_ry())\n",
        "  print(\"logical state |+>:\",cirq.dirac_notation(circuit.final_state_vector(initial_state=0b001001001))) \n",
        "  print(\"logical state |->:\",cirq.dirac_notation(circuit.final_state_vector(initial_state=0))) \n",
        "  print(circuit)\n",
        "\n",
        "def test_z_stab():\n",
        "  circuit=cirq.Circuit()\n",
        "  code=BS3x3Code()\n",
        "  circuit.append(code.encode())\n",
        "  #circuit.append(code.logical_ry())\n",
        "  circuit.append(code.z_stab())\n",
        "\n",
        "  print(\"After stabilizer measurement:\",cirq.dirac_notation(circuit.final_state_vector(initial_state=0b001001001))) \n",
        "  print(\"After stabilizer measurement:\",cirq.dirac_notation(circuit.final_state_vector(initial_state=0))) \n",
        "  # The last two syndrome bits should give zero all the time for this stabilized states, however it is not true here. It is fixed but not constant\n",
        "  print(circuit)\n",
        "\n",
        "def test_x_stab():\n",
        "  circuit=cirq.Circuit()\n",
        "  code=BS3x3Code()\n",
        "  circuit.append(code.encode())\n",
        "  #circuit.append(code.logical_ry())\n",
        "  circuit.append(code.z_stab())\n",
        "\n",
        "  print(\"After stabilizer measurement:\",cirq.dirac_notation(circuit.final_state_vector(initial_state=0b001001001))) \n",
        "  print(\"After stabilizer measurement:\",cirq.dirac_notation(circuit.final_state_vector(initial_state=0))) \n",
        "  # The last two syndrome bits should give zero all the time for this stabilized states, however it is not true here. It is fixed but not constant\n",
        "  print(circuit)\n",
        "\n",
        "#test_encoding()\n",
        "test_z_stab()\n",
        "#test_x_stab()"
      ],
      "execution_count": null,
      "outputs": [
        {
          "output_type": "stream",
          "text": [
            "After stabilizer measurement: -0.12|00000100111⟩ - 0.12|00000101011⟩ + 0.12|00000110011⟩ + 0.12|00000111111⟩ - 0.12|00001000111⟩ - 0.13|00001001011⟩ + 0.12|00001010011⟩ + 0.12|00001011111⟩ + 0.12|00010000111⟩ + 0.13|00010001011⟩ - 0.12|00010010011⟩ - 0.12|00010011111⟩ + 0.12|00011100111⟩ + 0.12|00011101011⟩ - 0.12|00011110011⟩ - 0.12|00011111111⟩ - 0.12|01100100111⟩ - 0.12|01100101011⟩ + 0.12|01100110011⟩ + 0.12|01100111111⟩ - 0.12|01101000111⟩ - 0.12|01101001011⟩ + 0.12|01101010011⟩ + 0.12|01101011111⟩ + 0.12|01110000111⟩ + 0.12|01110001011⟩ - 0.12|01110010011⟩ - 0.12|01110011111⟩ + 0.12|01111100111⟩ + 0.12|01111101011⟩ - 0.12|01111110011⟩ - 0.12|01111111111⟩ - 0.12|10100100111⟩ - 0.12|10100101011⟩ + 0.12|10100110011⟩ + 0.12|10100111111⟩ - 0.13|10101000111⟩ - 0.13|10101001011⟩ + 0.12|10101010011⟩ + 0.12|10101011111⟩ + 0.12|10110000111⟩ + 0.12|10110001011⟩ - 0.12|10110010011⟩ - 0.12|10110011111⟩ + 0.12|10111100111⟩ + 0.12|10111101011⟩ - 0.12|10111110011⟩ - 0.12|10111111111⟩ - 0.12|11000100111⟩ - 0.12|11000101011⟩ + 0.12|11000110011⟩ + 0.12|11000111111⟩ - 0.12|11001000111⟩ - 0.13|11001001011⟩ + 0.12|11001010011⟩ + 0.12|11001011111⟩ + 0.12|11010000111⟩ + 0.12|11010001011⟩ - 0.12|11010010011⟩ - 0.12|11010011111⟩ + 0.12|11011100111⟩ + 0.12|11011101011⟩ - 0.12|11011110011⟩ - 0.12|11011111111⟩\n",
            "After stabilizer measurement: 0.12|00000000000⟩ + 0.12|00000001100⟩ + 0.12|00000010100⟩ + 0.12|00000011000⟩ + 0.12|00001100000⟩ + 0.12|00001101100⟩ + 0.12|00001110100⟩ + 0.12|00001111000⟩ + 0.12|00010100000⟩ + 0.12|00010101100⟩ + 0.12|00010110100⟩ + 0.12|00010111000⟩ + 0.13|00011000000⟩ + 0.12|00011001100⟩ + 0.12|00011010100⟩ + 0.12|00011011000⟩ + 0.12|01100000000⟩ + 0.12|01100001100⟩ + 0.12|01100010100⟩ + 0.12|01100011000⟩ + 0.12|01101100000⟩ + 0.12|01101101100⟩ + 0.12|01101110100⟩ + 0.12|01101111000⟩ + 0.12|01110100000⟩ + 0.12|01110101100⟩ + 0.12|01110110100⟩ + 0.12|01110111000⟩ + 0.12|01111000000⟩ + 0.12|01111001100⟩ + 0.12|01111010100⟩ + 0.12|01111011000⟩ + 0.12|10100000000⟩ + 0.12|10100001100⟩ + 0.12|10100010100⟩ + 0.12|10100011000⟩ + 0.12|10101100000⟩ + 0.12|10101101100⟩ + 0.12|10101110100⟩ + 0.12|10101111000⟩ + 0.12|10110100000⟩ + 0.12|10110101100⟩ + 0.12|10110110100⟩ + 0.12|10110111000⟩ + 0.12|10111000000⟩ + 0.12|10111001100⟩ + 0.12|10111010100⟩ + 0.12|10111011000⟩ + 0.13|11000000000⟩ + 0.12|11000001100⟩ + 0.12|11000010100⟩ + 0.12|11000011000⟩ + 0.12|11001100000⟩ + 0.12|11001101100⟩ + 0.12|11001110100⟩ + 0.12|11001111000⟩ + 0.12|11010100000⟩ + 0.12|11010101100⟩ + 0.12|11010110100⟩ + 0.12|11010111000⟩ + 0.12|11011000000⟩ + 0.12|11011001100⟩ + 0.12|11011010100⟩ + 0.12|11011011000⟩\n",
            "0: ────MS(0.25π)───────────────────────────────────────Ry(0.5π)───MS(0.25π)─────────────────────────────────────────────────────────────────────────────────────────────────────────────────────────────────────────────Rx(-0.5π)───Ry(-0.5π)───\n",
            "       │                                                          │\n",
            "1: ────MS(0.25π)───Rz(0.5π)───MS(-0.25π)───────────────Ry(0.5π)───┼────────────────────────MS(0.25π)────────────────────────────────────────────────────────────────────────────────────────────────────────────────────Rx(-0.5π)───Ry(-0.5π)───\n",
            "                              │                                   │                        │\n",
            "2: ───────────────────────────MS(-0.25π)───Rz(-0.5π)───Ry(0.5π)───┼────────────────────────┼────────────────────────MS(0.25π)───────────────────────────────────────────────────────────────────────────────────────────Rx(-0.5π)───Ry(-0.5π)───\n",
            "                                                                  │                        │                        │\n",
            "3: ────MS(0.25π)───────────────────────────────────────Ry(0.5π)───┼───────────MS(-0.25π)───┼────────────────────────┼────────────────────────MS(0.25π)──────────────────────────────────────────────────────────────────────────────Ry(-0.5π)───\n",
            "       │                                                          │           │            │                        │                        │\n",
            "4: ────MS(0.25π)───Rz(0.5π)───MS(-0.25π)───────────────Ry(0.5π)───┼───────────┼────────────┼───────────MS(-0.25π)───┼────────────────────────┼────────────────────────MS(0.25π)─────────────────────────────────────────────────────Ry(-0.5π)───\n",
            "                              │                                   │           │            │           │            │                        │                        │\n",
            "5: ───────────────────────────MS(-0.25π)───Rz(-0.5π)───Ry(0.5π)───┼───────────┼────────────┼───────────┼────────────┼───────────MS(-0.25π)───┼────────────────────────┼────────────────────────MS(0.25π)────────────────────────────Ry(-0.5π)───\n",
            "                                                                  │           │            │           │            │           │            │                        │                        │\n",
            "6: ────MS(0.25π)───────────────────────────────────────Ry(0.5π)───┼───────────┼────────────┼───────────┼────────────┼───────────┼────────────┼───────────MS(-0.25π)───┼────────────────────────┼────────────────────────Rx(0.5π)────Ry(-0.5π)───\n",
            "       │                                                          │           │            │           │            │           │            │           │            │                        │\n",
            "7: ────MS(0.25π)───Rz(0.5π)───MS(-0.25π)───────────────Ry(0.5π)───┼───────────┼────────────┼───────────┼────────────┼───────────┼────────────┼───────────┼────────────┼───────────MS(-0.25π)───┼────────────────────────Rx(0.5π)────Ry(-0.5π)───\n",
            "                              │                                   │           │            │           │            │           │            │           │            │           │            │\n",
            "8: ───────────────────────────MS(-0.25π)───Rz(-0.5π)───Ry(0.5π)───┼───────────┼────────────┼───────────┼────────────┼───────────┼────────────┼───────────┼────────────┼───────────┼────────────┼───────────MS(-0.25π)───Rx(0.5π)────Ry(-0.5π)───\n",
            "                                                                  │           │            │           │            │           │            │           │            │           │            │           │\n",
            "9: ───────────────────────────────────────────────────────────────MS(0.25π)───MS(-0.25π)───MS(0.25π)───MS(-0.25π)───MS(0.25π)───MS(-0.25π)───┼───────────┼────────────┼───────────┼────────────┼───────────┼────────────M───────────────────────\n",
            "                                                                                                                                             │           │            │           │            │           │\n",
            "10: ─────────────────────────────────────────────────────────────────────────────────────────────────────────────────────────────────────────MS(0.25π)───MS(-0.25π)───MS(0.25π)───MS(-0.25π)───MS(0.25π)───MS(-0.25π)───M───────────────────────\n"
          ],
          "name": "stdout"
        }
      ]
    },
    {
      "cell_type": "code",
      "metadata": {
        "colab": {
          "base_uri": "https://localhost:8080/"
        },
        "id": "9W0xxjIl6CTU",
        "outputId": "157a8677-c32f-46ae-af6b-cea2d4c4e9c8"
      },
      "source": [
        "# check circuit from Fig.5 https://arxiv.org/pdf/1810.01040.pdf\n",
        "def test_stabilizer_slicing():\n",
        "  #define Clifford circuit\n",
        "  circuit1=cirq.Circuit()\n",
        "  qubit_list1 = cirq.LineQubit.range(7)\n",
        "  circuit1.append([\n",
        "                   [cirq.H(qubit_list1[i]) for i in range(6)],\n",
        "                  cirq.H(qubit_list1[6]),\n",
        "                  [cirq.CNOT(qubit_list1[6],qubit_list1[i]) for i in [0,2,1,3,5,4]],\n",
        "                  cirq.H(qubit_list1[6]),\n",
        "                   cirq.measure(qubit_list1[6])\n",
        "  ])\n",
        "  print(circuit1)\n",
        "\n",
        "  # define native circuit\n",
        "  circuit2=cirq.Circuit()\n",
        "  qubit_list2 = cirq.LineQubit.range(7)\n",
        "  circuit2.append([\n",
        "                   [cirq.H(qubit_list1[i]) for i in range(6)],                   \n",
        "                  [cirq.ms(0.25*np.pi*j).on(qubit_list2[6], qubit_list2[i]) for i,j in [(0,1),(2,-1),(1,1),(3,-1),(5,+1),(4,-1)] ],\n",
        "                  cirq.Moment([cirq.rx(0.5 *np.pi*j).on(qubit_list2[i]) for i,j in [(0,1),(2,-1),(1,1),(3,-1),(5,+1),(4,-1)] ]),\n",
        "                  cirq.measure(qubit_list2[6])\n",
        "  ])\n",
        "  print(circuit2)\n",
        "  print(\"circuit 1:\",cirq.dirac_notation(circuit1.final_state_vector(initial_state=0b111111))) \n",
        "  print(\"circuit 2:\",cirq.dirac_notation(circuit2.final_state_vector(initial_state=0b111111))) \n",
        "  print(\"check passes if return 0 on last bit all the time\")\n",
        "\n",
        "test_stabilizer_slicing()\n"
      ],
      "execution_count": null,
      "outputs": [
        {
          "output_type": "stream",
          "text": [
            "0: ───H───X───────────────────────────────\n",
            "          │\n",
            "1: ───H───┼───────X───────────────────────\n",
            "          │       │\n",
            "2: ───H───┼───X───┼───────────────────────\n",
            "          │   │   │\n",
            "3: ───H───┼───┼───┼───X───────────────────\n",
            "          │   │   │   │\n",
            "4: ───H───┼───┼───┼───┼───────X───────────\n",
            "          │   │   │   │       │\n",
            "5: ───H───┼───┼───┼───┼───X───┼───────────\n",
            "          │   │   │   │   │   │\n",
            "6: ───H───@───@───@───@───@───@───H───M───\n",
            "0: ───H───MS(0.25π)──────────────────────────────────────────────────────────────────Rx(0.5π)────\n",
            "          │\n",
            "1: ───H───┼────────────────────────MS(0.25π)─────────────────────────────────────────Rx(0.5π)────\n",
            "          │                        │\n",
            "2: ───H───┼───────────MS(-0.25π)───┼─────────────────────────────────────────────────Rx(-0.5π)───\n",
            "          │           │            │\n",
            "3: ───H───┼───────────┼────────────┼───────────MS(-0.25π)────────────────────────────Rx(-0.5π)───\n",
            "          │           │            │           │\n",
            "4: ───H───┼───────────┼────────────┼───────────┼────────────────────────MS(-0.25π)───Rx(-0.5π)───\n",
            "          │           │            │           │                        │\n",
            "5: ───H───┼───────────┼────────────┼───────────┼────────────MS(0.25π)───┼────────────Rx(0.5π)────\n",
            "          │           │            │           │            │           │\n",
            "6: ───────MS(0.25π)───MS(-0.25π)───MS(0.25π)───MS(-0.25π)───MS(0.25π)───MS(-0.25π)───M───────────\n",
            "circuit 1: 0.13|0000000⟩ - 0.13|0000010⟩ - 0.13|0000100⟩ + 0.13|0000110⟩ - 0.13|0001000⟩ + 0.13|0001010⟩ + 0.13|0001100⟩ - 0.13|0001110⟩ - 0.13|0010000⟩ + 0.13|0010010⟩ + 0.13|0010100⟩ - 0.13|0010110⟩ + 0.13|0011000⟩ - 0.13|0011010⟩ - 0.13|0011100⟩ + 0.13|0011110⟩ - 0.13|0100000⟩ + 0.13|0100010⟩ + 0.13|0100100⟩ - 0.13|0100110⟩ + 0.13|0101000⟩ - 0.13|0101010⟩ - 0.13|0101100⟩ + 0.13|0101110⟩ + 0.13|0110000⟩ - 0.13|0110010⟩ - 0.13|0110100⟩ + 0.13|0110110⟩ - 0.13|0111000⟩ + 0.13|0111010⟩ + 0.13|0111100⟩ - 0.13|0111110⟩ + 0.13|1000000⟩ - 0.13|1000010⟩ - 0.13|1000100⟩ + 0.13|1000110⟩ - 0.13|1001000⟩ + 0.13|1001010⟩ + 0.13|1001100⟩ - 0.13|1001110⟩ - 0.13|1010000⟩ + 0.13|1010010⟩ + 0.13|1010100⟩ - 0.13|1010110⟩ + 0.13|1011000⟩ - 0.13|1011010⟩ - 0.13|1011100⟩ + 0.13|1011110⟩ - 0.13|1100000⟩ + 0.13|1100010⟩ + 0.13|1100100⟩ - 0.13|1100110⟩ + 0.13|1101000⟩ - 0.13|1101010⟩ - 0.13|1101100⟩ + 0.13|1101110⟩ + 0.13|1110000⟩ - 0.13|1110010⟩ - 0.13|1110100⟩ + 0.13|1110110⟩ - 0.13|1111000⟩ + 0.13|1111010⟩ + 0.13|1111100⟩ - 0.13|1111110⟩\n",
            "circuit 2: -0.13|0000000⟩ + 0.13|0000010⟩ + 0.13|0000100⟩ - 0.13|0000110⟩ + 0.13|0001000⟩ - 0.13|0001010⟩ - 0.13|0001100⟩ + 0.13|0001110⟩ + 0.13|0010000⟩ - 0.13|0010010⟩ - 0.13|0010100⟩ + 0.13|0010110⟩ - 0.13|0011000⟩ + 0.13|0011010⟩ + 0.13|0011100⟩ - 0.13|0011110⟩ + 0.13|0100000⟩ - 0.13|0100010⟩ - 0.13|0100100⟩ + 0.13|0100110⟩ - 0.13|0101000⟩ + 0.13|0101010⟩ + 0.13|0101100⟩ - 0.13|0101110⟩ - 0.13|0110000⟩ + 0.13|0110010⟩ + 0.13|0110100⟩ - 0.13|0110110⟩ + 0.13|0111000⟩ - 0.13|0111010⟩ - 0.13|0111100⟩ + 0.13|0111110⟩ - 0.13|1000000⟩ + 0.13|1000010⟩ + 0.13|1000100⟩ - 0.13|1000110⟩ + 0.13|1001000⟩ - 0.13|1001010⟩ - 0.13|1001100⟩ + 0.13|1001110⟩ + 0.13|1010000⟩ - 0.13|1010010⟩ - 0.13|1010100⟩ + 0.13|1010110⟩ - 0.13|1011000⟩ + 0.13|1011010⟩ + 0.13|1011100⟩ - 0.13|1011110⟩ + 0.13|1100000⟩ - 0.13|1100010⟩ - 0.13|1100100⟩ + 0.13|1100110⟩ - 0.13|1101000⟩ + 0.13|1101010⟩ + 0.13|1101100⟩ - 0.13|1101110⟩ - 0.13|1110000⟩ + 0.13|1110010⟩ + 0.13|1110100⟩ - 0.13|1110110⟩ + 0.13|1111000⟩ - 0.13|1111010⟩ - 0.13|1111100⟩ + 0.13|1111110⟩\n",
            "check passes if return 0 on last bit all the time\n"
          ],
          "name": "stdout"
        }
      ]
    },
    {
      "cell_type": "code",
      "metadata": {
        "colab": {
          "base_uri": "https://localhost:8080/"
        },
        "id": "zUl0LvobIdf4",
        "outputId": "e68dcf4b-17e0-4079-e1c3-ca748bfadf38"
      },
      "source": [
        "c=cirq.Circuit()\n",
        "qubit_list = cirq.LineQubit.range(2)\n",
        "c.append(cirq.measure(qubit_list[0]))\n",
        "print(\"circuit:\",cirq.dirac_notation(c.final_state_vector(initial_state=1))) "
      ],
      "execution_count": null,
      "outputs": [
        {
          "output_type": "stream",
          "text": [
            "circuit: |1⟩\n"
          ],
          "name": "stdout"
        }
      ]
    },
    {
      "cell_type": "code",
      "metadata": {
        "id": "q5gn62Rmc9k4"
      },
      "source": [
        ""
      ],
      "execution_count": null,
      "outputs": []
    }
  ]
}